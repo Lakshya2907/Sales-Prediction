{
 "cells": [
  {
   "cell_type": "code",
   "execution_count": null,
   "id": "08180aff-bd0e-4e9d-93cd-9c4b68e4986c",
   "metadata": {},
   "outputs": [],
   "source": [
    "!pip install jovian opendatasets xgboost graphviz lightgbm scikit-learn xgboost lightgbm --upgrade --quiet"
   ]
  },
  {
   "cell_type": "code",
   "execution_count": null,
   "id": "702ab7fd-7a60-4c0e-b994-b18bf3a37bb7",
   "metadata": {},
   "outputs": [],
   "source": [
    "import os \n",
    "import pandas as pd\n",
    "import numpy as np\n",
    "import sklearn\n",
    "import opendatasets as od\n",
    "pd.set_option(\"display.max_columns\", 120)\n",
    "pd.set_option(\"display.max_rows\", 120)"
   ]
  },
  {
   "cell_type": "code",
   "execution_count": null,
   "id": "0d2904ab-1530-4279-96fe-5ac59cb9aedb",
   "metadata": {},
   "outputs": [],
   "source": [
    "od.download('https://www.kaggle.com/c/rossmann-store-sales')"
   ]
  },
  {
   "cell_type": "code",
   "execution_count": null,
   "id": "6fe806d1-209a-48b8-81a5-0692bbcf0f37",
   "metadata": {},
   "outputs": [],
   "source": [
    "os.listdir('rossmann-store-sales')"
   ]
  },
  {
   "cell_type": "code",
   "execution_count": null,
   "id": "86d6e0e6-7fa5-4aff-8548-2c39283f941e",
   "metadata": {},
   "outputs": [],
   "source": [
    "ross_df = pd.read_csv('./rossmann-store-sales/train.csv', low_memory=False)\n",
    "store_df = pd.read_csv('./rossmann-store-sales/store.csv')\n",
    "test_df = pd.read_csv('./rossmann-store-sales/test.csv')\n",
    "submission_df = pd.read_csv('./rossmann-store-sales/sample_submission.csv')"
   ]
  },
  {
   "cell_type": "code",
   "execution_count": null,
   "id": "93f40885-dba1-46de-b0f1-a9aea3f7307a",
   "metadata": {},
   "outputs": [],
   "source": [
    "ross_df"
   ]
  },
  {
   "cell_type": "code",
   "execution_count": null,
   "id": "d62be081-bd30-45e5-bf9d-c5f32dbb5a99",
   "metadata": {},
   "outputs": [],
   "source": [
    "test_df"
   ]
  },
  {
   "cell_type": "code",
   "execution_count": null,
   "id": "bd108b38-e6cf-48f7-8d9c-9dc7a3e13099",
   "metadata": {},
   "outputs": [],
   "source": [
    "store_df"
   ]
  },
  {
   "cell_type": "code",
   "execution_count": null,
   "id": "de0230b5-a1c9-4ad3-92a7-85986d4d8292",
   "metadata": {},
   "outputs": [],
   "source": [
    "merged_df = ross_df.merge(store_df,how = 'left' , on = 'Store')\n",
    "merged_test_df = test_df.merge(store_df,how = 'left' , on = 'Store')"
   ]
  },
  {
   "cell_type": "code",
   "execution_count": null,
   "id": "46e47d3e-26b8-40ee-897d-d6b82fb081df",
   "metadata": {},
   "outputs": [],
   "source": [
    "merged_df"
   ]
  },
  {
   "cell_type": "code",
   "execution_count": null,
   "id": "dee2bfcc-ed60-49d1-8064-930f62e604d5",
   "metadata": {},
   "outputs": [],
   "source": [
    "merged_test_df"
   ]
  },
  {
   "cell_type": "code",
   "execution_count": null,
   "id": "a71947c5-ae42-47db-9af0-4aaf4cc4f99f",
   "metadata": {},
   "outputs": [],
   "source": [
    "merged_df.info()"
   ]
  },
  {
   "cell_type": "code",
   "execution_count": null,
   "id": "b40eb896-5403-45ef-803e-930a8f65555a",
   "metadata": {},
   "outputs": [],
   "source": [
    "merged_df.isna().sum()"
   ]
  },
  {
   "cell_type": "code",
   "execution_count": null,
   "id": "627bda01-bbbd-446f-9f87-36aecdbf69a8",
   "metadata": {},
   "outputs": [],
   "source": [
    "def split_date(df):\n",
    "    df['Date'] = pd.to_datetime(df['Date'])\n",
    "    df['Year'] = df.Date.dt.year\n",
    "    df['Month'] = df.Date.dt.month\n",
    "    df['Day'] = df.Date.dt.day\n",
    "    df['WeekOfYear'] = df.Date.dt.isocalendar().week\n",
    "    "
   ]
  },
  {
   "cell_type": "code",
   "execution_count": null,
   "id": "1448ab6a-ad82-48ec-8cc0-f4fe0c53caea",
   "metadata": {},
   "outputs": [],
   "source": [
    "split_date(merged_df)\n",
    "split_date(merged_test_df)"
   ]
  },
  {
   "cell_type": "code",
   "execution_count": null,
   "id": "09561385-5a00-4948-a438-8cba16335750",
   "metadata": {},
   "outputs": [],
   "source": [
    "merged_df"
   ]
  },
  {
   "cell_type": "code",
   "execution_count": null,
   "id": "3fdb9af0-1877-4248-8412-0eeed6f8489c",
   "metadata": {},
   "outputs": [],
   "source": [
    "merged_df[merged_df.Open == 0].Sales.value_counts()"
   ]
  },
  {
   "cell_type": "code",
   "execution_count": null,
   "id": "9b0f0911-afa4-4c0d-9e11-6cd0fc0c0df8",
   "metadata": {},
   "outputs": [],
   "source": [
    "merged_df = merged_df[merged_df.Open == 1].copy()"
   ]
  },
  {
   "cell_type": "code",
   "execution_count": null,
   "id": "9d4ed67c-9a02-4722-907c-c929d00e0ec1",
   "metadata": {},
   "outputs": [],
   "source": [
    "merged_df.shape"
   ]
  },
  {
   "cell_type": "code",
   "execution_count": null,
   "id": "1c923bda-d20b-4b95-b54c-463426285d77",
   "metadata": {},
   "outputs": [],
   "source": [
    "def comp_duration(df):\n",
    "    df['Comp_months'] = 12*(df.Year - df.CompetitionOpenSinceYear) + df.CompetitionOpenSinceMonth\n",
    "    df['Comp_months'] = df['Comp_months'].map(lambda x:0 if x<0 else x).fillna(0)"
   ]
  },
  {
   "cell_type": "code",
   "execution_count": null,
   "id": "f3c058f5-ae14-4f3a-a8ed-c9cb79af63db",
   "metadata": {},
   "outputs": [],
   "source": [
    "comp_duration(merged_df)\n",
    "comp_duration(merged_test_df)"
   ]
  },
  {
   "cell_type": "code",
   "execution_count": null,
   "id": "e3519493-15cb-4d7a-a7c7-544c49826f2f",
   "metadata": {},
   "outputs": [],
   "source": [
    "merged_df"
   ]
  },
  {
   "cell_type": "code",
   "execution_count": null,
   "id": "e3a24e85-3f64-4f0e-9e43-4a2dfccb8fb3",
   "metadata": {},
   "outputs": [],
   "source": [
    "def check_promo_month(row):\n",
    "    month2str = {1:'Jan', 2:'Feb', 3:'Mar', 4:'Apr', 5:'May', 6:'Jun',              \n",
    "                 7:'Jul', 8:'Aug', 9:'Sept', 10:'Oct', 11:'Nov', 12:'Dec'}\n",
    "    try:\n",
    "        months = (row['PromoInterval'] or '').split(',')\n",
    "        if row['Promo2Open'] and month2str[row['Month']] in months:\n",
    "            return 1\n",
    "        else:\n",
    "            return 0\n",
    "    except Exception:\n",
    "        return 0\n",
    "\n",
    "def promo_cols(df):\n",
    "    # Calculate months since Promo2 started\n",
    "    promo2_open = 12 * (df['Year'] - df['Promo2SinceYear']) + (df['WeekOfYear'] - df['Promo2SinceWeek']) * 7 / 30.5\n",
    "    promo2_open = promo2_open.fillna(0).map(lambda x: max(x, 0))\n",
    "    df['Promo2Open'] = promo2_open * df['Promo2']\n",
    "    \n",
    "    # Calculate whether the current month is a promo month\n",
    "    df['IsPromo2Month'] = df.apply(check_promo_month, axis=1)\n",
    "    df['IsPromo2Month'] = df['IsPromo2Month'].fillna(0).astype(int) * df['Promo2']"
   ]
  },
  {
   "cell_type": "code",
   "execution_count": null,
   "id": "5bf133ef-2f52-45b9-b2e1-8219106b8379",
   "metadata": {},
   "outputs": [],
   "source": [
    "promo_cols(merged_df)\n",
    "promo_cols(merged_test_df)"
   ]
  },
  {
   "cell_type": "code",
   "execution_count": null,
   "id": "a6b97d2d-87aa-40a4-9dcc-9eeb8ac98024",
   "metadata": {},
   "outputs": [],
   "source": [
    "merged_df.columns"
   ]
  },
  {
   "cell_type": "code",
   "execution_count": null,
   "id": "e152f30b-74a0-4cd0-b620-7f0dfc141028",
   "metadata": {},
   "outputs": [],
   "source": [
    "input_cols =['Store', 'DayOfWeek', 'Promo', 'StateHoliday', 'SchoolHoliday', \n",
    "              'StoreType', 'Assortment', 'CompetitionDistance', 'Comp_months', \n",
    "              'Day', 'Month', 'Year', 'WeekOfYear',  'Promo2', \n",
    "              'Promo2Open', 'IsPromo2Month']\n",
    "target_cols = ['Sales']"
   ]
  },
  {
   "cell_type": "code",
   "execution_count": null,
   "id": "f6e3bfd4-6f26-4a11-9d21-4dddc67035ab",
   "metadata": {},
   "outputs": [],
   "source": [
    "input_cols"
   ]
  },
  {
   "cell_type": "code",
   "execution_count": null,
   "id": "5142b788-f872-4861-bf69-aff51748148b",
   "metadata": {},
   "outputs": [],
   "source": [
    "inputs = merged_df[input_cols].copy()\n",
    "targets = merged_df['Sales'].copy()\n",
    "test_inputs = merged_test_df[input_cols].copy()"
   ]
  },
  {
   "cell_type": "code",
   "execution_count": null,
   "id": "ceebc571-6108-4768-b55c-035f54489653",
   "metadata": {},
   "outputs": [],
   "source": [
    "inputs"
   ]
  },
  {
   "cell_type": "code",
   "execution_count": null,
   "id": "3fd7a978-79dd-49e1-b18e-abd4805112a9",
   "metadata": {},
   "outputs": [],
   "source": [
    "targets"
   ]
  },
  {
   "cell_type": "code",
   "execution_count": null,
   "id": "6ec50857-4110-4cb7-a815-ba8d090203fa",
   "metadata": {},
   "outputs": [],
   "source": [
    "numeric_cols = ['Store', 'Promo', 'SchoolHoliday', \n",
    "              'CompetitionDistance', 'Comp_months', 'Promo2', 'Promo2Open', 'IsPromo2Month',\n",
    "              'Day', 'Month', 'Year', 'WeekOfYear', ]\n",
    "\n",
    "cat_cols = ['DayOfWeek', 'StateHoliday', 'StoreType', 'Assortment']"
   ]
  },
  {
   "cell_type": "code",
   "execution_count": null,
   "id": "98346a1e-c8d5-4a01-874d-4e0c140a8a8b",
   "metadata": {},
   "outputs": [],
   "source": [
    "inputs[numeric_cols].isna().sum()"
   ]
  },
  {
   "cell_type": "code",
   "execution_count": null,
   "id": "ccc8ac2d-df0c-415b-b529-e5fe6ca89858",
   "metadata": {},
   "outputs": [],
   "source": [
    "maxi = inputs['CompetitionDistance'].max()"
   ]
  },
  {
   "cell_type": "code",
   "execution_count": null,
   "id": "71c7be9e-be14-4d1d-b87d-b5dbb29d35ae",
   "metadata": {},
   "outputs": [],
   "source": [
    "maxi"
   ]
  },
  {
   "cell_type": "code",
   "execution_count": null,
   "id": "ca95f27a-159e-4f91-b2d6-8a5f7095ffe8",
   "metadata": {},
   "outputs": [],
   "source": [
    "inputs['CompetitionDistance'].fillna(maxi*2,inplace = True)\n",
    "test_inputs['CompetitionDistance'].fillna(maxi*2,inplace = True)"
   ]
  },
  {
   "cell_type": "code",
   "execution_count": null,
   "id": "37a97d25-7291-483f-9ec1-d47e0a79a179",
   "metadata": {},
   "outputs": [],
   "source": [
    "inputs[numeric_cols].isna().sum()"
   ]
  },
  {
   "cell_type": "code",
   "execution_count": null,
   "id": "9ba98ba3-34c2-4087-bc00-fcf30e76c8b9",
   "metadata": {},
   "outputs": [],
   "source": [
    "from sklearn.preprocessing import MinMaxScaler"
   ]
  },
  {
   "cell_type": "code",
   "execution_count": null,
   "id": "b30291e7-b983-4439-a2dd-8153b56e699f",
   "metadata": {},
   "outputs": [],
   "source": [
    "scaler = MinMaxScaler().fit(inputs[numeric_cols])"
   ]
  },
  {
   "cell_type": "code",
   "execution_count": null,
   "id": "32ca6057-6c21-47d5-ac80-712d26895bd9",
   "metadata": {},
   "outputs": [],
   "source": [
    "inputs[numeric_cols] = scaler.transform(inputs[numeric_cols])\n",
    "test_inputs[numeric_cols] = scaler.transform(test_inputs[numeric_cols])"
   ]
  },
  {
   "cell_type": "code",
   "execution_count": null,
   "id": "7171efd5-7bb9-4776-ae3c-f49fe2a8cc56",
   "metadata": {},
   "outputs": [],
   "source": [
    "inputs"
   ]
  },
  {
   "cell_type": "code",
   "execution_count": null,
   "id": "4f3295d3-1dd3-4ba7-8f83-b069ba287941",
   "metadata": {},
   "outputs": [],
   "source": [
    "from sklearn.preprocessing import OneHotEncoder\n",
    "encoded_cols = list(encoder.get_feature_names_out(cat_cols))"
   ]
  },
  {
   "cell_type": "code",
   "execution_count": null,
   "id": "c0ff64ee-948d-4b93-887f-b828014310e7",
   "metadata": {},
   "outputs": [],
   "source": [
    "encoder = OneHotEncoder(handle_unknown='ignore').fit(inputs[cat_cols])\n"
   ]
  },
  {
   "cell_type": "code",
   "execution_count": null,
   "id": "cc2005d8-0f4a-49cb-b011-34487d124b85",
   "metadata": {},
   "outputs": [],
   "source": [
    "inputs[encoded_cols] = encoder.transform(inputs[cat_cols])"
   ]
  },
  {
   "cell_type": "code",
   "execution_count": null,
   "id": "5570859d-5ced-4abf-a4e3-2e05bdb8abc5",
   "metadata": {},
   "outputs": [],
   "source": []
  }
 ],
 "metadata": {
  "kernelspec": {
   "display_name": "Python 3 (ipykernel)",
   "language": "python",
   "name": "python3"
  },
  "language_info": {
   "codemirror_mode": {
    "name": "ipython",
    "version": 3
   },
   "file_extension": ".py",
   "mimetype": "text/x-python",
   "name": "python",
   "nbconvert_exporter": "python",
   "pygments_lexer": "ipython3",
   "version": "3.11.7"
  }
 },
 "nbformat": 4,
 "nbformat_minor": 5
}
